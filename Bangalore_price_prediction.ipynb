{
 "cells": [
  {
   "cell_type": "markdown",
   "metadata": {},
   "source": [
    "# Bangalore Price Prediction\n",
    "\n",
    "###### Importing libraries"
   ]
  },
  {
   "cell_type": "code",
   "execution_count": 1,
   "metadata": {},
   "outputs": [],
   "source": [
    "import numpy as np\n",
    "import pandas as pd\n",
    "import seaborn as sns\n",
    "import matplotlib.pyplot as plt\n",
    "import re\n",
    "pd.set_option(\"display.max_column\",None)"
   ]
  },
  {
   "cell_type": "code",
   "execution_count": 2,
   "metadata": {},
   "outputs": [],
   "source": [
    "df=pd.read_csv(\"Train.csv\")"
   ]
  },
  {
   "cell_type": "code",
   "execution_count": 3,
   "metadata": {},
   "outputs": [
    {
     "data": {
      "text/plain": [
       "(13320, 9)"
      ]
     },
     "execution_count": 3,
     "metadata": {},
     "output_type": "execute_result"
    }
   ],
   "source": [
    "df.shape"
   ]
  },
  {
   "cell_type": "code",
   "execution_count": 4,
   "metadata": {},
   "outputs": [
    {
     "data": {
      "text/plain": [
       "area_type          0\n",
       "availability       0\n",
       "location           1\n",
       "size              16\n",
       "society         5502\n",
       "total_sqft         0\n",
       "bath              73\n",
       "balcony          609\n",
       "price              0\n",
       "dtype: int64"
      ]
     },
     "execution_count": 4,
     "metadata": {},
     "output_type": "execute_result"
    }
   ],
   "source": [
    "df.isnull().sum()"
   ]
  },
  {
   "cell_type": "code",
   "execution_count": 5,
   "metadata": {},
   "outputs": [
    {
     "data": {
      "text/plain": [
       "2688"
      ]
     },
     "execution_count": 5,
     "metadata": {},
     "output_type": "execute_result"
    }
   ],
   "source": [
    "df[\"society\"].nunique()"
   ]
  },
  {
   "cell_type": "code",
   "execution_count": 6,
   "metadata": {},
   "outputs": [],
   "source": [
    "df.drop(columns=[\"society\"],inplace=True)"
   ]
  },
  {
   "cell_type": "code",
   "execution_count": 7,
   "metadata": {},
   "outputs": [
    {
     "data": {
      "text/plain": [
       "area_type         0\n",
       "availability      0\n",
       "location          1\n",
       "size             16\n",
       "total_sqft        0\n",
       "bath             73\n",
       "balcony         609\n",
       "price             0\n",
       "dtype: int64"
      ]
     },
     "execution_count": 7,
     "metadata": {},
     "output_type": "execute_result"
    }
   ],
   "source": [
    "df.isnull().sum()"
   ]
  },
  {
   "cell_type": "code",
   "execution_count": 8,
   "metadata": {},
   "outputs": [],
   "source": [
    "df = df.dropna(axis=0, subset=['location'])"
   ]
  },
  {
   "cell_type": "code",
   "execution_count": 9,
   "metadata": {},
   "outputs": [
    {
     "name": "stdout",
     "output_type": "stream",
     "text": [
      " area_type has 4 unique values\n",
      " availability has 81 unique values\n",
      " location has 1305 unique values\n",
      " size has 31 unique values\n",
      " total_sqft has 2117 unique values\n",
      " bath has 19 unique values\n",
      " balcony has 4 unique values\n",
      " price has 1994 unique values\n"
     ]
    }
   ],
   "source": [
    "for i in df.columns:\n",
    "    print(\" {} has {} unique values\".format(i,df[i].nunique()))"
   ]
  },
  {
   "cell_type": "markdown",
   "metadata": {},
   "source": [
    "###### Since total_sqft feature has values which are present in other units so converted those into square ft"
   ]
  },
  {
   "cell_type": "code",
   "execution_count": 10,
   "metadata": {},
   "outputs": [],
   "source": [
    "def clean_sqft(num):\n",
    "    if \"-\" in num:\n",
    "        num1=num.split(\"-\")[0].strip()\n",
    "        num1=float(num1)\n",
    "        num2=num.split(\"-\")[1].strip()\n",
    "        num2=float(num2)\n",
    "        sqft = ((num1+num2)/2)\n",
    "        return sqft\n",
    "    elif \"Sq. Meter\" in num:\n",
    "        num = re.sub(r\"Sq. Meter\",\"\",num).strip()\n",
    "        num=float(num)\n",
    "        num = num*10.764\n",
    "        return num\n",
    "    elif \"Perch\" in num:\n",
    "        num = re.sub(r\"Perch\",\"\",num).strip()\n",
    "        num=float(num)\n",
    "        num = num*272\n",
    "        return num\n",
    "    elif \"Acres\" in num:\n",
    "        num = re.sub(r\"Acres\",\"\",num).strip()\n",
    "        num=float(num)\n",
    "        num = num*43560\n",
    "        return num\n",
    "    elif \"Cents\" in num:\n",
    "        num = re.sub(r\"Cents\",\"\",num).strip()\n",
    "        num=float(num)\n",
    "        num = num*435.6\n",
    "        return num\n",
    "    elif \"Sq. Yards\" in num:\n",
    "        num = re.sub(r\"Sq. Yards\",\"\",num).strip()\n",
    "        num=float(num)\n",
    "        num = num*9\n",
    "        return num\n",
    "    elif \"Guntha\" in num:\n",
    "        num = re.sub(r\"Guntha\",\"\",num).strip()\n",
    "        num=float(num)\n",
    "        num = num*1088.98\n",
    "        return num\n",
    "    elif \"Grounds\" in num:\n",
    "        num = re.sub(r\"Grounds\",\"\",num).strip()\n",
    "        num=float(num)\n",
    "        num = num*2400\n",
    "        return num\n",
    "    else:\n",
    "        return num\n",
    "    \n",
    "df[\"total_sqft\"]=df[\"total_sqft\"].apply(clean_sqft).astype('float')"
   ]
  },
  {
   "cell_type": "code",
   "execution_count": 11,
   "metadata": {},
   "outputs": [
    {
     "data": {
      "text/plain": [
       "array(['2 BHK', '4 Bedroom', '3 BHK', '4 BHK', '6 Bedroom', '3 Bedroom',\n",
       "       '1 BHK', '1 RK', '1 Bedroom', '8 Bedroom', '2 Bedroom',\n",
       "       '7 Bedroom', '5 BHK', '7 BHK', '6 BHK', '5 Bedroom', '11 BHK',\n",
       "       '9 BHK', nan, '9 Bedroom', '27 BHK', '10 Bedroom', '11 Bedroom',\n",
       "       '10 BHK', '19 BHK', '16 BHK', '43 Bedroom', '14 BHK', '8 BHK',\n",
       "       '12 Bedroom', '13 BHK', '18 Bedroom'], dtype=object)"
      ]
     },
     "execution_count": 11,
     "metadata": {},
     "output_type": "execute_result"
    }
   ],
   "source": [
    "df[\"size\"].unique()"
   ]
  },
  {
   "cell_type": "code",
   "execution_count": 12,
   "metadata": {},
   "outputs": [],
   "source": [
    "# Bedroom should be converted into BHK\n",
    "\n",
    "df[\"size\"]=df[\"size\"].str.replace(\"Bedroom\",\"BHK\")"
   ]
  },
  {
   "cell_type": "code",
   "execution_count": 13,
   "metadata": {},
   "outputs": [],
   "source": [
    "# 2 BHK was used most in the size feature so used that value in general\n",
    "\n",
    "df[\"size\"].fillna(\"2 BHK\",inplace = True)"
   ]
  },
  {
   "cell_type": "code",
   "execution_count": 14,
   "metadata": {},
   "outputs": [
    {
     "data": {
      "text/plain": [
       "<AxesSubplot:>"
      ]
     },
     "execution_count": 14,
     "metadata": {},
     "output_type": "execute_result"
    },
    {
     "data": {
      "image/png": "[encoded data removed]",
      "text/plain": [
       "<Figure size 864x864 with 2 Axes>"
      ]
     },
     "metadata": {
      "needs_background": "light"
     },
     "output_type": "display_data"
    }
   ],
   "source": [
    "df_copy=df.copy()\n",
    "from sklearn.preprocessing import LabelEncoder\n",
    "le=LabelEncoder()\n",
    "df_copy[\"size\"]=le.fit_transform(df_copy[\"size\"])\n",
    "plt.figure(figsize=(12,12))\n",
    "sns.heatmap(df_copy.corr(),annot = True , cmap=\"RdYlGn\")"
   ]
  },
  {
   "cell_type": "markdown",
   "metadata": {},
   "source": [
    "###### Since from the above correlation matrix , bath and balcony is more correlated with size with comparison to total_sqft so bath and balcony should we groupby with respect to size "
   ]
  },
  {
   "cell_type": "code",
   "execution_count": 15,
   "metadata": {},
   "outputs": [
    {
     "name": "stderr",
     "output_type": "stream",
     "text": [
      "/home/anshul/anaconda3/envs/bangalorehouseprediction/lib/python3.7/site-packages/numpy/lib/nanfunctions.py:1111: RuntimeWarning: Mean of empty slice\n",
      "  return np.nanmean(a, axis, out=out, keepdims=keepdims)\n"
     ]
    }
   ],
   "source": [
    "df['bath'] = df.groupby(['size']).transform(lambda x: x.fillna(x.median()))['bath']\n",
    "df['balcony'] = df.groupby(['size']).transform(lambda x: x.fillna(x.median()))['balcony']"
   ]
  },
  {
   "cell_type": "code",
   "execution_count": 16,
   "metadata": {},
   "outputs": [
    {
     "data": {
      "text/html": [
       "<div>\n",
       "<style scoped>\n",
       "    .dataframe tbody tr th:only-of-type {\n",
       "        vertical-align: middle;\n",
       "    }\n",
       "\n",
       "    .dataframe tbody tr th {\n",
       "        vertical-align: top;\n",
       "    }\n",
       "\n",
       "    .dataframe thead th {\n",
       "        text-align: right;\n",
       "    }\n",
       "</style>\n",
       "<table border=\"1\" class=\"dataframe\">\n",
       "  <thead>\n",
       "    <tr style=\"text-align: right;\">\n",
       "      <th></th>\n",
       "      <th>area_type</th>\n",
       "      <th>availability</th>\n",
       "      <th>location</th>\n",
       "      <th>size</th>\n",
       "      <th>total_sqft</th>\n",
       "      <th>bath</th>\n",
       "      <th>balcony</th>\n",
       "      <th>price</th>\n",
       "    </tr>\n",
       "  </thead>\n",
       "  <tbody>\n",
       "    <tr>\n",
       "      <th>3379</th>\n",
       "      <td>Super built-up  Area</td>\n",
       "      <td>Ready To Move</td>\n",
       "      <td>1Hanuman Nagar</td>\n",
       "      <td>19 BHK</td>\n",
       "      <td>2000.0</td>\n",
       "      <td>16.0</td>\n",
       "      <td>NaN</td>\n",
       "      <td>490.0</td>\n",
       "    </tr>\n",
       "    <tr>\n",
       "      <th>3609</th>\n",
       "      <td>Super built-up  Area</td>\n",
       "      <td>Ready To Move</td>\n",
       "      <td>Koramangala Industrial Layout</td>\n",
       "      <td>16 BHK</td>\n",
       "      <td>10000.0</td>\n",
       "      <td>16.0</td>\n",
       "      <td>NaN</td>\n",
       "      <td>550.0</td>\n",
       "    </tr>\n",
       "    <tr>\n",
       "      <th>11559</th>\n",
       "      <td>Plot  Area</td>\n",
       "      <td>18-Apr</td>\n",
       "      <td>1Kasavanhalli</td>\n",
       "      <td>18 BHK</td>\n",
       "      <td>1200.0</td>\n",
       "      <td>18.0</td>\n",
       "      <td>NaN</td>\n",
       "      <td>200.0</td>\n",
       "    </tr>\n",
       "  </tbody>\n",
       "</table>\n",
       "</div>"
      ],
      "text/plain": [
       "                  area_type   availability                       location  \\\n",
       "3379   Super built-up  Area  Ready To Move                 1Hanuman Nagar   \n",
       "3609   Super built-up  Area  Ready To Move  Koramangala Industrial Layout   \n",
       "11559            Plot  Area         18-Apr                  1Kasavanhalli   \n",
       "\n",
       "         size  total_sqft  bath  balcony  price  \n",
       "3379   19 BHK      2000.0  16.0      NaN  490.0  \n",
       "3609   16 BHK     10000.0  16.0      NaN  550.0  \n",
       "11559  18 BHK      1200.0  18.0      NaN  200.0  "
      ]
     },
     "execution_count": 16,
     "metadata": {},
     "output_type": "execute_result"
    }
   ],
   "source": [
    "df[df[\"balcony\"].isnull()].head()"
   ]
  },
  {
   "cell_type": "code",
   "execution_count": 17,
   "metadata": {},
   "outputs": [],
   "source": [
    "df[\"balcony\"].fillna(0,inplace = True)"
   ]
  },
  {
   "cell_type": "code",
   "execution_count": 18,
   "metadata": {},
   "outputs": [],
   "source": [
    "df.drop(columns=[\"area_type\",\"availability\"],inplace=True)"
   ]
  },
  {
   "cell_type": "code",
   "execution_count": 19,
   "metadata": {},
   "outputs": [
    {
     "data": {
      "text/html": [
       "<div>\n",
       "<style scoped>\n",
       "    .dataframe tbody tr th:only-of-type {\n",
       "        vertical-align: middle;\n",
       "    }\n",
       "\n",
       "    .dataframe tbody tr th {\n",
       "        vertical-align: top;\n",
       "    }\n",
       "\n",
       "    .dataframe thead th {\n",
       "        text-align: right;\n",
       "    }\n",
       "</style>\n",
       "<table border=\"1\" class=\"dataframe\">\n",
       "  <thead>\n",
       "    <tr style=\"text-align: right;\">\n",
       "      <th></th>\n",
       "      <th>location</th>\n",
       "      <th>size</th>\n",
       "      <th>total_sqft</th>\n",
       "      <th>bath</th>\n",
       "      <th>balcony</th>\n",
       "      <th>price</th>\n",
       "    </tr>\n",
       "  </thead>\n",
       "  <tbody>\n",
       "    <tr>\n",
       "      <th>0</th>\n",
       "      <td>Electronic City Phase II</td>\n",
       "      <td>2 BHK</td>\n",
       "      <td>1056.0</td>\n",
       "      <td>2.0</td>\n",
       "      <td>1.0</td>\n",
       "      <td>39.07</td>\n",
       "    </tr>\n",
       "    <tr>\n",
       "      <th>1</th>\n",
       "      <td>Chikka Tirupathi</td>\n",
       "      <td>4 BHK</td>\n",
       "      <td>2600.0</td>\n",
       "      <td>5.0</td>\n",
       "      <td>3.0</td>\n",
       "      <td>120.00</td>\n",
       "    </tr>\n",
       "    <tr>\n",
       "      <th>2</th>\n",
       "      <td>Uttarahalli</td>\n",
       "      <td>3 BHK</td>\n",
       "      <td>1440.0</td>\n",
       "      <td>2.0</td>\n",
       "      <td>3.0</td>\n",
       "      <td>62.00</td>\n",
       "    </tr>\n",
       "    <tr>\n",
       "      <th>3</th>\n",
       "      <td>Lingadheeranahalli</td>\n",
       "      <td>3 BHK</td>\n",
       "      <td>1521.0</td>\n",
       "      <td>3.0</td>\n",
       "      <td>1.0</td>\n",
       "      <td>95.00</td>\n",
       "    </tr>\n",
       "    <tr>\n",
       "      <th>4</th>\n",
       "      <td>Kothanur</td>\n",
       "      <td>2 BHK</td>\n",
       "      <td>1200.0</td>\n",
       "      <td>2.0</td>\n",
       "      <td>1.0</td>\n",
       "      <td>51.00</td>\n",
       "    </tr>\n",
       "  </tbody>\n",
       "</table>\n",
       "</div>"
      ],
      "text/plain": [
       "                   location   size  total_sqft  bath  balcony   price\n",
       "0  Electronic City Phase II  2 BHK      1056.0   2.0      1.0   39.07\n",
       "1          Chikka Tirupathi  4 BHK      2600.0   5.0      3.0  120.00\n",
       "2               Uttarahalli  3 BHK      1440.0   2.0      3.0   62.00\n",
       "3        Lingadheeranahalli  3 BHK      1521.0   3.0      1.0   95.00\n",
       "4                  Kothanur  2 BHK      1200.0   2.0      1.0   51.00"
      ]
     },
     "execution_count": 19,
     "metadata": {},
     "output_type": "execute_result"
    }
   ],
   "source": [
    "df.head()"
   ]
  },
  {
   "cell_type": "code",
   "execution_count": 20,
   "metadata": {},
   "outputs": [
    {
     "data": {
      "text/plain": [
       "location      0\n",
       "size          0\n",
       "total_sqft    0\n",
       "bath          0\n",
       "balcony       0\n",
       "price         0\n",
       "dtype: int64"
      ]
     },
     "execution_count": 20,
     "metadata": {},
     "output_type": "execute_result"
    }
   ],
   "source": [
    "df.isnull().sum()"
   ]
  },
  {
   "cell_type": "code",
   "execution_count": 21,
   "metadata": {},
   "outputs": [
    {
     "data": {
      "text/plain": [
       "<seaborn.axisgrid.FacetGrid at 0x7fbf8a959490>"
      ]
     },
     "execution_count": 21,
     "metadata": {},
     "output_type": "execute_result"
    },
    {
     "data": {
      "image/png": "[encoded data removed]",
      "text/plain": [
       "<Figure size 360x360 with 1 Axes>"
      ]
     },
     "metadata": {
      "needs_background": "light"
     },
     "output_type": "display_data"
    }
   ],
   "source": [
    "g=sns.catplot(data=df,x=\"size\",y=\"price\")\n",
    "g.set_xticklabels(rotation=90)"
   ]
  },
  {
   "cell_type": "code",
   "execution_count": 22,
   "metadata": {},
   "outputs": [],
   "source": [
    "df[\"BHK\"]=df[\"size\"].str.split(\" \").str[0]"
   ]
  },
  {
   "cell_type": "code",
   "execution_count": 23,
   "metadata": {},
   "outputs": [],
   "source": [
    "df[\"BHK\"]=df[\"BHK\"].astype(int)"
   ]
  },
  {
   "cell_type": "code",
   "execution_count": 24,
   "metadata": {},
   "outputs": [],
   "source": [
    "# BHK more then 11 is a bit odd as large value BHK houses are not often present and in data also it act as very minority data\n",
    "\n",
    "df=df[df[\"BHK\"]<11]"
   ]
  },
  {
   "cell_type": "code",
   "execution_count": 25,
   "metadata": {},
   "outputs": [
    {
     "data": {
      "text/plain": [
       "(13307, 7)"
      ]
     },
     "execution_count": 25,
     "metadata": {},
     "output_type": "execute_result"
    }
   ],
   "source": [
    "df.shape"
   ]
  },
  {
   "cell_type": "code",
   "execution_count": 26,
   "metadata": {},
   "outputs": [
    {
     "data": {
      "text/plain": [
       "Whitefield                  540\n",
       "Sarjapur  Road              399\n",
       "Electronic City             302\n",
       "Kanakpura Road              273\n",
       "Thanisandra                 234\n",
       "Yelahanka                   213\n",
       "Uttarahalli                 186\n",
       "Hebbal                      177\n",
       "Marathahalli                175\n",
       "Raja Rajeshwari Nagar       171\n",
       "Bannerghatta Road           152\n",
       "Hennur Road                 152\n",
       "7th Phase JP Nagar          149\n",
       "Haralur Road                142\n",
       "Electronic City Phase II    132\n",
       "Rajaji Nagar                107\n",
       "Chandapura                  100\n",
       "Bellandur                    96\n",
       "KR Puram                     91\n",
       "Electronics City Phase 1     88\n",
       "Hoodi                        88\n",
       "Yeshwanthpur                 85\n",
       "Begur Road                   84\n",
       "Sarjapur                     82\n",
       "Kasavanhalli                 80\n",
       "Harlur                       79\n",
       "Banashankari                 75\n",
       "Hormavu                      74\n",
       "Kengeri                      73\n",
       "Ramamurthy Nagar             73\n",
       "Koramangala                  72\n",
       "JP Nagar                     72\n",
       "Hosa Road                    72\n",
       "Old Madras Road              71\n",
       "Jakkur                       71\n",
       "Varthur                      70\n",
       "Kothanur                     66\n",
       "Kaggadasapura                64\n",
       "Nagarbhavi                   63\n",
       "Thigalarapalya               62\n",
       "Akshaya Nagar                62\n",
       "TC Palaya                    60\n",
       "Malleshwaram                 58\n",
       "8th Phase JP Nagar           57\n",
       "Rachenahalli                 56\n",
       "Hennur                       55\n",
       "Budigere                     54\n",
       "Jigani                       54\n",
       "HSR Layout                   53\n",
       "Jalahalli                    52\n",
       "Hulimavu                     52\n",
       "Panathur                     51\n",
       "Bisuvanahalli                51\n",
       "Ramagondanahalli             50\n",
       "Hegde Nagar                  49\n",
       "Bhoganhalli                  49\n",
       "Mysore Road                  49\n",
       "Gottigere                    48\n",
       "Brookefield                  47\n",
       "Kundalahalli                 47\n",
       "Name: location, dtype: int64"
      ]
     },
     "execution_count": 26,
     "metadata": {},
     "output_type": "execute_result"
    }
   ],
   "source": [
    "df[\"location\"].value_counts().sort_values(ascending=False).head(60)"
   ]
  },
  {
   "cell_type": "code",
   "execution_count": 27,
   "metadata": {},
   "outputs": [],
   "source": [
    "location_idex=df[\"location\"].value_counts().sort_values(ascending=False).head(80).index"
   ]
  },
  {
   "cell_type": "code",
   "execution_count": 28,
   "metadata": {},
   "outputs": [
    {
     "data": {
      "text/plain": [
       "Index(['Whitefield', 'Sarjapur  Road', 'Electronic City', 'Kanakpura Road',\n",
       "       'Thanisandra', 'Yelahanka', 'Uttarahalli', 'Hebbal', 'Marathahalli',\n",
       "       'Raja Rajeshwari Nagar', 'Bannerghatta Road', 'Hennur Road',\n",
       "       '7th Phase JP Nagar', 'Haralur Road', 'Electronic City Phase II',\n",
       "       'Rajaji Nagar', 'Chandapura', 'Bellandur', 'KR Puram',\n",
       "       'Electronics City Phase 1', 'Hoodi', 'Yeshwanthpur', 'Begur Road',\n",
       "       'Sarjapur', 'Kasavanhalli', 'Harlur', 'Banashankari', 'Hormavu',\n",
       "       'Kengeri', 'Ramamurthy Nagar', 'Koramangala', 'JP Nagar', 'Hosa Road',\n",
       "       'Old Madras Road', 'Jakkur', 'Varthur', 'Kothanur', 'Kaggadasapura',\n",
       "       'Nagarbhavi', 'Thigalarapalya', 'Akshaya Nagar', 'TC Palaya',\n",
       "       'Malleshwaram', '8th Phase JP Nagar', 'Rachenahalli', 'Hennur',\n",
       "       'Budigere', 'Jigani', 'HSR Layout', 'Jalahalli', 'Hulimavu', 'Panathur',\n",
       "       'Bisuvanahalli', 'Ramagondanahalli', 'Hegde Nagar', 'Bhoganhalli',\n",
       "       'Mysore Road', 'Gottigere', 'Brookefield', 'Kundalahalli', 'Hosur Road',\n",
       "       'Devanahalli', 'Balagere', 'Indira Nagar', 'Subramanyapura',\n",
       "       'Vittasandra', 'Vidyaranyapura', '9th Phase JP Nagar', 'CV Raman Nagar',\n",
       "       'Kadugodi', 'Vijayanagar', 'Horamavu Agara', 'Kanakapura', 'Attibele',\n",
       "       'Yelahanka New Town', 'Kengeri Satellite Town', 'Talaghattapura',\n",
       "       'Kudlu Gate', 'Sahakara Nagar', '5th Phase JP Nagar'],\n",
       "      dtype='object')"
      ]
     },
     "execution_count": 28,
     "metadata": {},
     "output_type": "execute_result"
    }
   ],
   "source": [
    "location_idex"
   ]
  },
  {
   "cell_type": "code",
   "execution_count": 29,
   "metadata": {},
   "outputs": [],
   "source": [
    "location_idex=['Whitefield', 'Sarjapur  Road', 'Electronic City', 'Kanakpura Road',\n",
    "       'Yelahanka', 'Uttarahalli', 'Hebbal', 'Marathahalli',\n",
    "       'Raja Rajeshwari Nagar','Bannerghatta Road',\n",
    "       '7th Phase JP Nagar', 'Electronic City Phase II',\n",
    "       'Rajaji Nagar', 'Bellandur', 'KR Puram',\n",
    "       'Electronics City Phase 1', 'Yeshwanthpur', 'Sarjapur',\n",
    "       'Banashankari','Kengeri', 'Koramangala', 'JP Nagar','Malleshwaram',\n",
    "       '8th Phase JP Nagar','HSR Layout','Mysore Road','Hosur Road', 'Brookefield',\n",
    "       'Indira Nagar', 'CV Raman Nagar',]"
   ]
  },
  {
   "cell_type": "code",
   "execution_count": 30,
   "metadata": {},
   "outputs": [
    {
     "data": {
      "text/plain": [
       "30"
      ]
     },
     "execution_count": 30,
     "metadata": {},
     "output_type": "execute_result"
    }
   ],
   "source": [
    "len(location_idex)"
   ]
  },
  {
   "cell_type": "code",
   "execution_count": 31,
   "metadata": {},
   "outputs": [],
   "source": [
    "df=df[df[\"location\"].isin(location_idex)]"
   ]
  },
  {
   "cell_type": "code",
   "execution_count": 32,
   "metadata": {},
   "outputs": [
    {
     "data": {
      "text/plain": [
       "(4108, 7)"
      ]
     },
     "execution_count": 32,
     "metadata": {},
     "output_type": "execute_result"
    }
   ],
   "source": [
    "df.shape"
   ]
  },
  {
   "cell_type": "code",
   "execution_count": 33,
   "metadata": {},
   "outputs": [],
   "source": [
    "for area in location_idex:\n",
    "    df[area]=np.where(df[\"location\"]==area,1,0)"
   ]
  },
  {
   "cell_type": "code",
   "execution_count": 34,
   "metadata": {},
   "outputs": [
    {
     "data": {
      "text/html": [
       "<div>\n",
       "<style scoped>\n",
       "    .dataframe tbody tr th:only-of-type {\n",
       "        vertical-align: middle;\n",
       "    }\n",
       "\n",
       "    .dataframe tbody tr th {\n",
       "        vertical-align: top;\n",
       "    }\n",
       "\n",
       "    .dataframe thead th {\n",
       "        text-align: right;\n",
       "    }\n",
       "</style>\n",
       "<table border=\"1\" class=\"dataframe\">\n",
       "  <thead>\n",
       "    <tr style=\"text-align: right;\">\n",
       "      <th></th>\n",
       "      <th>location</th>\n",
       "      <th>size</th>\n",
       "      <th>total_sqft</th>\n",
       "      <th>bath</th>\n",
       "      <th>balcony</th>\n",
       "      <th>price</th>\n",
       "      <th>BHK</th>\n",
       "      <th>Whitefield</th>\n",
       "      <th>Sarjapur  Road</th>\n",
       "      <th>Electronic City</th>\n",
       "      <th>Kanakpura Road</th>\n",
       "      <th>Yelahanka</th>\n",
       "      <th>Uttarahalli</th>\n",
       "      <th>Hebbal</th>\n",
       "      <th>Marathahalli</th>\n",
       "      <th>Raja Rajeshwari Nagar</th>\n",
       "      <th>Bannerghatta Road</th>\n",
       "      <th>7th Phase JP Nagar</th>\n",
       "      <th>Electronic City Phase II</th>\n",
       "      <th>Rajaji Nagar</th>\n",
       "      <th>Bellandur</th>\n",
       "      <th>KR Puram</th>\n",
       "      <th>Electronics City Phase 1</th>\n",
       "      <th>Yeshwanthpur</th>\n",
       "      <th>Sarjapur</th>\n",
       "      <th>Banashankari</th>\n",
       "      <th>Kengeri</th>\n",
       "      <th>Koramangala</th>\n",
       "      <th>JP Nagar</th>\n",
       "      <th>Malleshwaram</th>\n",
       "      <th>8th Phase JP Nagar</th>\n",
       "      <th>HSR Layout</th>\n",
       "      <th>Mysore Road</th>\n",
       "      <th>Hosur Road</th>\n",
       "      <th>Brookefield</th>\n",
       "      <th>Indira Nagar</th>\n",
       "      <th>CV Raman Nagar</th>\n",
       "    </tr>\n",
       "  </thead>\n",
       "  <tbody>\n",
       "    <tr>\n",
       "      <th>0</th>\n",
       "      <td>Electronic City Phase II</td>\n",
       "      <td>2 BHK</td>\n",
       "      <td>1056.0</td>\n",
       "      <td>2.0</td>\n",
       "      <td>1.0</td>\n",
       "      <td>39.07</td>\n",
       "      <td>2</td>\n",
       "      <td>0</td>\n",
       "      <td>0</td>\n",
       "      <td>0</td>\n",
       "      <td>0</td>\n",
       "      <td>0</td>\n",
       "      <td>0</td>\n",
       "      <td>0</td>\n",
       "      <td>0</td>\n",
       "      <td>0</td>\n",
       "      <td>0</td>\n",
       "      <td>0</td>\n",
       "      <td>1</td>\n",
       "      <td>0</td>\n",
       "      <td>0</td>\n",
       "      <td>0</td>\n",
       "      <td>0</td>\n",
       "      <td>0</td>\n",
       "      <td>0</td>\n",
       "      <td>0</td>\n",
       "      <td>0</td>\n",
       "      <td>0</td>\n",
       "      <td>0</td>\n",
       "      <td>0</td>\n",
       "      <td>0</td>\n",
       "      <td>0</td>\n",
       "      <td>0</td>\n",
       "      <td>0</td>\n",
       "      <td>0</td>\n",
       "      <td>0</td>\n",
       "      <td>0</td>\n",
       "    </tr>\n",
       "    <tr>\n",
       "      <th>2</th>\n",
       "      <td>Uttarahalli</td>\n",
       "      <td>3 BHK</td>\n",
       "      <td>1440.0</td>\n",
       "      <td>2.0</td>\n",
       "      <td>3.0</td>\n",
       "      <td>62.00</td>\n",
       "      <td>3</td>\n",
       "      <td>0</td>\n",
       "      <td>0</td>\n",
       "      <td>0</td>\n",
       "      <td>0</td>\n",
       "      <td>0</td>\n",
       "      <td>1</td>\n",
       "      <td>0</td>\n",
       "      <td>0</td>\n",
       "      <td>0</td>\n",
       "      <td>0</td>\n",
       "      <td>0</td>\n",
       "      <td>0</td>\n",
       "      <td>0</td>\n",
       "      <td>0</td>\n",
       "      <td>0</td>\n",
       "      <td>0</td>\n",
       "      <td>0</td>\n",
       "      <td>0</td>\n",
       "      <td>0</td>\n",
       "      <td>0</td>\n",
       "      <td>0</td>\n",
       "      <td>0</td>\n",
       "      <td>0</td>\n",
       "      <td>0</td>\n",
       "      <td>0</td>\n",
       "      <td>0</td>\n",
       "      <td>0</td>\n",
       "      <td>0</td>\n",
       "      <td>0</td>\n",
       "      <td>0</td>\n",
       "    </tr>\n",
       "    <tr>\n",
       "      <th>5</th>\n",
       "      <td>Whitefield</td>\n",
       "      <td>2 BHK</td>\n",
       "      <td>1170.0</td>\n",
       "      <td>2.0</td>\n",
       "      <td>1.0</td>\n",
       "      <td>38.00</td>\n",
       "      <td>2</td>\n",
       "      <td>1</td>\n",
       "      <td>0</td>\n",
       "      <td>0</td>\n",
       "      <td>0</td>\n",
       "      <td>0</td>\n",
       "      <td>0</td>\n",
       "      <td>0</td>\n",
       "      <td>0</td>\n",
       "      <td>0</td>\n",
       "      <td>0</td>\n",
       "      <td>0</td>\n",
       "      <td>0</td>\n",
       "      <td>0</td>\n",
       "      <td>0</td>\n",
       "      <td>0</td>\n",
       "      <td>0</td>\n",
       "      <td>0</td>\n",
       "      <td>0</td>\n",
       "      <td>0</td>\n",
       "      <td>0</td>\n",
       "      <td>0</td>\n",
       "      <td>0</td>\n",
       "      <td>0</td>\n",
       "      <td>0</td>\n",
       "      <td>0</td>\n",
       "      <td>0</td>\n",
       "      <td>0</td>\n",
       "      <td>0</td>\n",
       "      <td>0</td>\n",
       "      <td>0</td>\n",
       "    </tr>\n",
       "    <tr>\n",
       "      <th>7</th>\n",
       "      <td>Rajaji Nagar</td>\n",
       "      <td>4 BHK</td>\n",
       "      <td>3300.0</td>\n",
       "      <td>4.0</td>\n",
       "      <td>2.0</td>\n",
       "      <td>600.00</td>\n",
       "      <td>4</td>\n",
       "      <td>0</td>\n",
       "      <td>0</td>\n",
       "      <td>0</td>\n",
       "      <td>0</td>\n",
       "      <td>0</td>\n",
       "      <td>0</td>\n",
       "      <td>0</td>\n",
       "      <td>0</td>\n",
       "      <td>0</td>\n",
       "      <td>0</td>\n",
       "      <td>0</td>\n",
       "      <td>0</td>\n",
       "      <td>1</td>\n",
       "      <td>0</td>\n",
       "      <td>0</td>\n",
       "      <td>0</td>\n",
       "      <td>0</td>\n",
       "      <td>0</td>\n",
       "      <td>0</td>\n",
       "      <td>0</td>\n",
       "      <td>0</td>\n",
       "      <td>0</td>\n",
       "      <td>0</td>\n",
       "      <td>0</td>\n",
       "      <td>0</td>\n",
       "      <td>0</td>\n",
       "      <td>0</td>\n",
       "      <td>0</td>\n",
       "      <td>0</td>\n",
       "      <td>0</td>\n",
       "    </tr>\n",
       "    <tr>\n",
       "      <th>8</th>\n",
       "      <td>Marathahalli</td>\n",
       "      <td>3 BHK</td>\n",
       "      <td>1310.0</td>\n",
       "      <td>3.0</td>\n",
       "      <td>1.0</td>\n",
       "      <td>63.25</td>\n",
       "      <td>3</td>\n",
       "      <td>0</td>\n",
       "      <td>0</td>\n",
       "      <td>0</td>\n",
       "      <td>0</td>\n",
       "      <td>0</td>\n",
       "      <td>0</td>\n",
       "      <td>0</td>\n",
       "      <td>1</td>\n",
       "      <td>0</td>\n",
       "      <td>0</td>\n",
       "      <td>0</td>\n",
       "      <td>0</td>\n",
       "      <td>0</td>\n",
       "      <td>0</td>\n",
       "      <td>0</td>\n",
       "      <td>0</td>\n",
       "      <td>0</td>\n",
       "      <td>0</td>\n",
       "      <td>0</td>\n",
       "      <td>0</td>\n",
       "      <td>0</td>\n",
       "      <td>0</td>\n",
       "      <td>0</td>\n",
       "      <td>0</td>\n",
       "      <td>0</td>\n",
       "      <td>0</td>\n",
       "      <td>0</td>\n",
       "      <td>0</td>\n",
       "      <td>0</td>\n",
       "      <td>0</td>\n",
       "    </tr>\n",
       "  </tbody>\n",
       "</table>\n",
       "</div>"
      ],
      "text/plain": [
       "                   location   size  total_sqft  bath  balcony   price  BHK  \\\n",
       "0  Electronic City Phase II  2 BHK      1056.0   2.0      1.0   39.07    2   \n",
       "2               Uttarahalli  3 BHK      1440.0   2.0      3.0   62.00    3   \n",
       "5                Whitefield  2 BHK      1170.0   2.0      1.0   38.00    2   \n",
       "7              Rajaji Nagar  4 BHK      3300.0   4.0      2.0  600.00    4   \n",
       "8              Marathahalli  3 BHK      1310.0   3.0      1.0   63.25    3   \n",
       "\n",
       "   Whitefield  Sarjapur  Road  Electronic City  Kanakpura Road  Yelahanka  \\\n",
       "0           0               0                0               0          0   \n",
       "2           0               0                0               0          0   \n",
       "5           1               0                0               0          0   \n",
       "7           0               0                0               0          0   \n",
       "8           0               0                0               0          0   \n",
       "\n",
       "   Uttarahalli  Hebbal  Marathahalli  Raja Rajeshwari Nagar  \\\n",
       "0            0       0             0                      0   \n",
       "2            1       0             0                      0   \n",
       "5            0       0             0                      0   \n",
       "7            0       0             0                      0   \n",
       "8            0       0             1                      0   \n",
       "\n",
       "   Bannerghatta Road  7th Phase JP Nagar  Electronic City Phase II  \\\n",
       "0                  0                   0                         1   \n",
       "2                  0                   0                         0   \n",
       "5                  0                   0                         0   \n",
       "7                  0                   0                         0   \n",
       "8                  0                   0                         0   \n",
       "\n",
       "   Rajaji Nagar  Bellandur  KR Puram  Electronics City Phase 1  Yeshwanthpur  \\\n",
       "0             0          0         0                         0             0   \n",
       "2             0          0         0                         0             0   \n",
       "5             0          0         0                         0             0   \n",
       "7             1          0         0                         0             0   \n",
       "8             0          0         0                         0             0   \n",
       "\n",
       "   Sarjapur  Banashankari  Kengeri  Koramangala  JP Nagar  Malleshwaram  \\\n",
       "0         0             0        0            0         0             0   \n",
       "2         0             0        0            0         0             0   \n",
       "5         0             0        0            0         0             0   \n",
       "7         0             0        0            0         0             0   \n",
       "8         0             0        0            0         0             0   \n",
       "\n",
       "   8th Phase JP Nagar  HSR Layout  Mysore Road  Hosur Road  Brookefield  \\\n",
       "0                   0           0            0           0            0   \n",
       "2                   0           0            0           0            0   \n",
       "5                   0           0            0           0            0   \n",
       "7                   0           0            0           0            0   \n",
       "8                   0           0            0           0            0   \n",
       "\n",
       "   Indira Nagar  CV Raman Nagar  \n",
       "0             0               0  \n",
       "2             0               0  \n",
       "5             0               0  \n",
       "7             0               0  \n",
       "8             0               0  "
      ]
     },
     "execution_count": 34,
     "metadata": {},
     "output_type": "execute_result"
    }
   ],
   "source": [
    "df.head()"
   ]
  },
  {
   "cell_type": "code",
   "execution_count": 35,
   "metadata": {},
   "outputs": [],
   "source": [
    "df.drop(columns=[\"location\",\"size\"],inplace=True)"
   ]
  },
  {
   "cell_type": "code",
   "execution_count": 36,
   "metadata": {},
   "outputs": [
    {
     "data": {
      "text/plain": [
       "Index(['total_sqft', 'bath', 'balcony', 'price', 'BHK', 'Whitefield',\n",
       "       'Sarjapur  Road', 'Electronic City', 'Kanakpura Road', 'Yelahanka',\n",
       "       'Uttarahalli', 'Hebbal', 'Marathahalli', 'Raja Rajeshwari Nagar',\n",
       "       'Bannerghatta Road', '7th Phase JP Nagar', 'Electronic City Phase II',\n",
       "       'Rajaji Nagar', 'Bellandur', 'KR Puram', 'Electronics City Phase 1',\n",
       "       'Yeshwanthpur', 'Sarjapur', 'Banashankari', 'Kengeri', 'Koramangala',\n",
       "       'JP Nagar', 'Malleshwaram', '8th Phase JP Nagar', 'HSR Layout',\n",
       "       'Mysore Road', 'Hosur Road', 'Brookefield', 'Indira Nagar',\n",
       "       'CV Raman Nagar'],\n",
       "      dtype='object')"
      ]
     },
     "execution_count": 36,
     "metadata": {},
     "output_type": "execute_result"
    }
   ],
   "source": [
    "df.columns"
   ]
  },
  {
   "cell_type": "code",
   "execution_count": 37,
   "metadata": {},
   "outputs": [],
   "source": [
    "df=df[['Whitefield',\n",
    "       'Sarjapur  Road', 'Electronic City', 'Kanakpura Road', 'Yelahanka',\n",
    "       'Uttarahalli', 'Hebbal', 'Marathahalli', 'Raja Rajeshwari Nagar',\n",
    "       'Bannerghatta Road', '7th Phase JP Nagar', 'Electronic City Phase II',\n",
    "       'Rajaji Nagar', 'Bellandur', 'KR Puram', 'Electronics City Phase 1',\n",
    "       'Yeshwanthpur', 'Sarjapur', 'Banashankari', 'Kengeri', 'Koramangala',\n",
    "       'JP Nagar', 'Malleshwaram', '8th Phase JP Nagar', 'HSR Layout',\n",
    "       'Mysore Road', 'Hosur Road', 'Brookefield', 'Indira Nagar',\n",
    "       'CV Raman Nagar','BHK','total_sqft', 'bath', 'balcony', 'price']]"
   ]
  },
  {
   "cell_type": "code",
   "execution_count": 38,
   "metadata": {},
   "outputs": [
    {
     "data": {
      "text/html": [
       "<div>\n",
       "<style scoped>\n",
       "    .dataframe tbody tr th:only-of-type {\n",
       "        vertical-align: middle;\n",
       "    }\n",
       "\n",
       "    .dataframe tbody tr th {\n",
       "        vertical-align: top;\n",
       "    }\n",
       "\n",
       "    .dataframe thead th {\n",
       "        text-align: right;\n",
       "    }\n",
       "</style>\n",
       "<table border=\"1\" class=\"dataframe\">\n",
       "  <thead>\n",
       "    <tr style=\"text-align: right;\">\n",
       "      <th></th>\n",
       "      <th>Whitefield</th>\n",
       "      <th>Sarjapur  Road</th>\n",
       "      <th>Electronic City</th>\n",
       "      <th>Kanakpura Road</th>\n",
       "      <th>Yelahanka</th>\n",
       "      <th>Uttarahalli</th>\n",
       "      <th>Hebbal</th>\n",
       "      <th>Marathahalli</th>\n",
       "      <th>Raja Rajeshwari Nagar</th>\n",
       "      <th>Bannerghatta Road</th>\n",
       "      <th>7th Phase JP Nagar</th>\n",
       "      <th>Electronic City Phase II</th>\n",
       "      <th>Rajaji Nagar</th>\n",
       "      <th>Bellandur</th>\n",
       "      <th>KR Puram</th>\n",
       "      <th>Electronics City Phase 1</th>\n",
       "      <th>Yeshwanthpur</th>\n",
       "      <th>Sarjapur</th>\n",
       "      <th>Banashankari</th>\n",
       "      <th>Kengeri</th>\n",
       "      <th>Koramangala</th>\n",
       "      <th>JP Nagar</th>\n",
       "      <th>Malleshwaram</th>\n",
       "      <th>8th Phase JP Nagar</th>\n",
       "      <th>HSR Layout</th>\n",
       "      <th>Mysore Road</th>\n",
       "      <th>Hosur Road</th>\n",
       "      <th>Brookefield</th>\n",
       "      <th>Indira Nagar</th>\n",
       "      <th>CV Raman Nagar</th>\n",
       "      <th>BHK</th>\n",
       "      <th>total_sqft</th>\n",
       "      <th>bath</th>\n",
       "      <th>balcony</th>\n",
       "      <th>price</th>\n",
       "    </tr>\n",
       "  </thead>\n",
       "  <tbody>\n",
       "    <tr>\n",
       "      <th>0</th>\n",
       "      <td>0</td>\n",
       "      <td>0</td>\n",
       "      <td>0</td>\n",
       "      <td>0</td>\n",
       "      <td>0</td>\n",
       "      <td>0</td>\n",
       "      <td>0</td>\n",
       "      <td>0</td>\n",
       "      <td>0</td>\n",
       "      <td>0</td>\n",
       "      <td>0</td>\n",
       "      <td>1</td>\n",
       "      <td>0</td>\n",
       "      <td>0</td>\n",
       "      <td>0</td>\n",
       "      <td>0</td>\n",
       "      <td>0</td>\n",
       "      <td>0</td>\n",
       "      <td>0</td>\n",
       "      <td>0</td>\n",
       "      <td>0</td>\n",
       "      <td>0</td>\n",
       "      <td>0</td>\n",
       "      <td>0</td>\n",
       "      <td>0</td>\n",
       "      <td>0</td>\n",
       "      <td>0</td>\n",
       "      <td>0</td>\n",
       "      <td>0</td>\n",
       "      <td>0</td>\n",
       "      <td>2</td>\n",
       "      <td>1056.0</td>\n",
       "      <td>2.0</td>\n",
       "      <td>1.0</td>\n",
       "      <td>39.07</td>\n",
       "    </tr>\n",
       "    <tr>\n",
       "      <th>2</th>\n",
       "      <td>0</td>\n",
       "      <td>0</td>\n",
       "      <td>0</td>\n",
       "      <td>0</td>\n",
       "      <td>0</td>\n",
       "      <td>1</td>\n",
       "      <td>0</td>\n",
       "      <td>0</td>\n",
       "      <td>0</td>\n",
       "      <td>0</td>\n",
       "      <td>0</td>\n",
       "      <td>0</td>\n",
       "      <td>0</td>\n",
       "      <td>0</td>\n",
       "      <td>0</td>\n",
       "      <td>0</td>\n",
       "      <td>0</td>\n",
       "      <td>0</td>\n",
       "      <td>0</td>\n",
       "      <td>0</td>\n",
       "      <td>0</td>\n",
       "      <td>0</td>\n",
       "      <td>0</td>\n",
       "      <td>0</td>\n",
       "      <td>0</td>\n",
       "      <td>0</td>\n",
       "      <td>0</td>\n",
       "      <td>0</td>\n",
       "      <td>0</td>\n",
       "      <td>0</td>\n",
       "      <td>3</td>\n",
       "      <td>1440.0</td>\n",
       "      <td>2.0</td>\n",
       "      <td>3.0</td>\n",
       "      <td>62.00</td>\n",
       "    </tr>\n",
       "    <tr>\n",
       "      <th>5</th>\n",
       "      <td>1</td>\n",
       "      <td>0</td>\n",
       "      <td>0</td>\n",
       "      <td>0</td>\n",
       "      <td>0</td>\n",
       "      <td>0</td>\n",
       "      <td>0</td>\n",
       "      <td>0</td>\n",
       "      <td>0</td>\n",
       "      <td>0</td>\n",
       "      <td>0</td>\n",
       "      <td>0</td>\n",
       "      <td>0</td>\n",
       "      <td>0</td>\n",
       "      <td>0</td>\n",
       "      <td>0</td>\n",
       "      <td>0</td>\n",
       "      <td>0</td>\n",
       "      <td>0</td>\n",
       "      <td>0</td>\n",
       "      <td>0</td>\n",
       "      <td>0</td>\n",
       "      <td>0</td>\n",
       "      <td>0</td>\n",
       "      <td>0</td>\n",
       "      <td>0</td>\n",
       "      <td>0</td>\n",
       "      <td>0</td>\n",
       "      <td>0</td>\n",
       "      <td>0</td>\n",
       "      <td>2</td>\n",
       "      <td>1170.0</td>\n",
       "      <td>2.0</td>\n",
       "      <td>1.0</td>\n",
       "      <td>38.00</td>\n",
       "    </tr>\n",
       "    <tr>\n",
       "      <th>7</th>\n",
       "      <td>0</td>\n",
       "      <td>0</td>\n",
       "      <td>0</td>\n",
       "      <td>0</td>\n",
       "      <td>0</td>\n",
       "      <td>0</td>\n",
       "      <td>0</td>\n",
       "      <td>0</td>\n",
       "      <td>0</td>\n",
       "      <td>0</td>\n",
       "      <td>0</td>\n",
       "      <td>0</td>\n",
       "      <td>1</td>\n",
       "      <td>0</td>\n",
       "      <td>0</td>\n",
       "      <td>0</td>\n",
       "      <td>0</td>\n",
       "      <td>0</td>\n",
       "      <td>0</td>\n",
       "      <td>0</td>\n",
       "      <td>0</td>\n",
       "      <td>0</td>\n",
       "      <td>0</td>\n",
       "      <td>0</td>\n",
       "      <td>0</td>\n",
       "      <td>0</td>\n",
       "      <td>0</td>\n",
       "      <td>0</td>\n",
       "      <td>0</td>\n",
       "      <td>0</td>\n",
       "      <td>4</td>\n",
       "      <td>3300.0</td>\n",
       "      <td>4.0</td>\n",
       "      <td>2.0</td>\n",
       "      <td>600.00</td>\n",
       "    </tr>\n",
       "    <tr>\n",
       "      <th>8</th>\n",
       "      <td>0</td>\n",
       "      <td>0</td>\n",
       "      <td>0</td>\n",
       "      <td>0</td>\n",
       "      <td>0</td>\n",
       "      <td>0</td>\n",
       "      <td>0</td>\n",
       "      <td>1</td>\n",
       "      <td>0</td>\n",
       "      <td>0</td>\n",
       "      <td>0</td>\n",
       "      <td>0</td>\n",
       "      <td>0</td>\n",
       "      <td>0</td>\n",
       "      <td>0</td>\n",
       "      <td>0</td>\n",
       "      <td>0</td>\n",
       "      <td>0</td>\n",
       "      <td>0</td>\n",
       "      <td>0</td>\n",
       "      <td>0</td>\n",
       "      <td>0</td>\n",
       "      <td>0</td>\n",
       "      <td>0</td>\n",
       "      <td>0</td>\n",
       "      <td>0</td>\n",
       "      <td>0</td>\n",
       "      <td>0</td>\n",
       "      <td>0</td>\n",
       "      <td>0</td>\n",
       "      <td>3</td>\n",
       "      <td>1310.0</td>\n",
       "      <td>3.0</td>\n",
       "      <td>1.0</td>\n",
       "      <td>63.25</td>\n",
       "    </tr>\n",
       "  </tbody>\n",
       "</table>\n",
       "</div>"
      ],
      "text/plain": [
       "   Whitefield  Sarjapur  Road  Electronic City  Kanakpura Road  Yelahanka  \\\n",
       "0           0               0                0               0          0   \n",
       "2           0               0                0               0          0   \n",
       "5           1               0                0               0          0   \n",
       "7           0               0                0               0          0   \n",
       "8           0               0                0               0          0   \n",
       "\n",
       "   Uttarahalli  Hebbal  Marathahalli  Raja Rajeshwari Nagar  \\\n",
       "0            0       0             0                      0   \n",
       "2            1       0             0                      0   \n",
       "5            0       0             0                      0   \n",
       "7            0       0             0                      0   \n",
       "8            0       0             1                      0   \n",
       "\n",
       "   Bannerghatta Road  7th Phase JP Nagar  Electronic City Phase II  \\\n",
       "0                  0                   0                         1   \n",
       "2                  0                   0                         0   \n",
       "5                  0                   0                         0   \n",
       "7                  0                   0                         0   \n",
       "8                  0                   0                         0   \n",
       "\n",
       "   Rajaji Nagar  Bellandur  KR Puram  Electronics City Phase 1  Yeshwanthpur  \\\n",
       "0             0          0         0                         0             0   \n",
       "2             0          0         0                         0             0   \n",
       "5             0          0         0                         0             0   \n",
       "7             1          0         0                         0             0   \n",
       "8             0          0         0                         0             0   \n",
       "\n",
       "   Sarjapur  Banashankari  Kengeri  Koramangala  JP Nagar  Malleshwaram  \\\n",
       "0         0             0        0            0         0             0   \n",
       "2         0             0        0            0         0             0   \n",
       "5         0             0        0            0         0             0   \n",
       "7         0             0        0            0         0             0   \n",
       "8         0             0        0            0         0             0   \n",
       "\n",
       "   8th Phase JP Nagar  HSR Layout  Mysore Road  Hosur Road  Brookefield  \\\n",
       "0                   0           0            0           0            0   \n",
       "2                   0           0            0           0            0   \n",
       "5                   0           0            0           0            0   \n",
       "7                   0           0            0           0            0   \n",
       "8                   0           0            0           0            0   \n",
       "\n",
       "   Indira Nagar  CV Raman Nagar  BHK  total_sqft  bath  balcony   price  \n",
       "0             0               0    2      1056.0   2.0      1.0   39.07  \n",
       "2             0               0    3      1440.0   2.0      3.0   62.00  \n",
       "5             0               0    2      1170.0   2.0      1.0   38.00  \n",
       "7             0               0    4      3300.0   4.0      2.0  600.00  \n",
       "8             0               0    3      1310.0   3.0      1.0   63.25  "
      ]
     },
     "execution_count": 38,
     "metadata": {},
     "output_type": "execute_result"
    }
   ],
   "source": [
    "df.head()"
   ]
  },
  {
   "cell_type": "code",
   "execution_count": 39,
   "metadata": {},
   "outputs": [],
   "source": [
    "X=df.drop(labels=[\"price\"],axis=1)\n",
    "y=df[\"price\"].values"
   ]
  },
  {
   "cell_type": "code",
   "execution_count": 40,
   "metadata": {},
   "outputs": [],
   "source": [
    "from sklearn.model_selection import train_test_split\n",
    "X_train,X_test,y_train,y_test=train_test_split(X,y,test_size=0.3,random_state=42)"
   ]
  },
  {
   "cell_type": "code",
   "execution_count": 41,
   "metadata": {},
   "outputs": [],
   "source": [
    "from sklearn.model_selection import RandomizedSearchCV"
   ]
  },
  {
   "cell_type": "code",
   "execution_count": 42,
   "metadata": {},
   "outputs": [],
   "source": [
    "n_estimators=[int(x) for x in np.linspace(start=100,stop=1200,num=12)]\n",
    "max_features=[\"auto\",\"sqrt\"]\n",
    "max_depth=[int(x) for x in np.linspace(start=5,stop=30,num=6)]\n",
    "min_samples_split=[2,5,8,10,12,14]\n",
    "min_samples_leaf=[2,5,8,10]"
   ]
  },
  {
   "cell_type": "code",
   "execution_count": 43,
   "metadata": {},
   "outputs": [],
   "source": [
    "param_grid={\"n_estimators\":n_estimators,\"max_features\":max_features,\"max_depth\":max_depth,\"min_samples_split\":min_samples_split,\"min_samples_leaf\":min_samples_leaf}"
   ]
  },
  {
   "cell_type": "code",
   "execution_count": 44,
   "metadata": {},
   "outputs": [],
   "source": [
    "from sklearn.ensemble import RandomForestRegressor\n",
    "model_rf=RandomForestRegressor()"
   ]
  },
  {
   "cell_type": "code",
   "execution_count": 45,
   "metadata": {},
   "outputs": [],
   "source": [
    "model=RandomizedSearchCV(estimator=model_rf,param_distributions=param_grid,scoring='neg_mean_squared_error',cv=5,verbose=2,random_state=42,n_jobs=1,n_iter = 10)"
   ]
  },
  {
   "cell_type": "code",
   "execution_count": 46,
   "metadata": {},
   "outputs": [
    {
     "name": "stdout",
     "output_type": "stream",
     "text": [
      "Fitting 5 folds for each of 10 candidates, totalling 50 fits\n",
      "[CV] n_estimators=700, min_samples_split=2, min_samples_leaf=2, max_features=sqrt, max_depth=30 \n"
     ]
    },
    {
     "name": "stderr",
     "output_type": "stream",
     "text": [
      "[Parallel(n_jobs=1)]: Using backend SequentialBackend with 1 concurrent workers.\n"
     ]
    },
    {
     "name": "stdout",
     "output_type": "stream",
     "text": [
      "[CV]  n_estimators=700, min_samples_split=2, min_samples_leaf=2, max_features=sqrt, max_depth=30, total=   1.9s\n",
      "[CV] n_estimators=700, min_samples_split=2, min_samples_leaf=2, max_features=sqrt, max_depth=30 \n"
     ]
    },
    {
     "name": "stderr",
     "output_type": "stream",
     "text": [
      "[Parallel(n_jobs=1)]: Done   1 out of   1 | elapsed:    1.9s remaining:    0.0s\n"
     ]
    },
    {
     "name": "stdout",
     "output_type": "stream",
     "text": [
      "[CV]  n_estimators=700, min_samples_split=2, min_samples_leaf=2, max_features=sqrt, max_depth=30, total=   1.7s\n",
      "[CV] n_estimators=700, min_samples_split=2, min_samples_leaf=2, max_features=sqrt, max_depth=30 \n",
      "[CV]  n_estimators=700, min_samples_split=2, min_samples_leaf=2, max_features=sqrt, max_depth=30, total=   1.7s\n",
      "[CV] n_estimators=700, min_samples_split=2, min_samples_leaf=2, max_features=sqrt, max_depth=30 \n",
      "[CV]  n_estimators=700, min_samples_split=2, min_samples_leaf=2, max_features=sqrt, max_depth=30, total=   1.7s\n",
      "[CV] n_estimators=700, min_samples_split=2, min_samples_leaf=2, max_features=sqrt, max_depth=30 \n",
      "[CV]  n_estimators=700, min_samples_split=2, min_samples_leaf=2, max_features=sqrt, max_depth=30, total=   1.7s\n",
      "[CV] n_estimators=900, min_samples_split=14, min_samples_leaf=10, max_features=auto, max_depth=10 \n",
      "[CV]  n_estimators=900, min_samples_split=14, min_samples_leaf=10, max_features=auto, max_depth=10, total=   3.3s\n",
      "[CV] n_estimators=900, min_samples_split=14, min_samples_leaf=10, max_features=auto, max_depth=10 \n",
      "[CV]  n_estimators=900, min_samples_split=14, min_samples_leaf=10, max_features=auto, max_depth=10, total=   3.3s\n",
      "[CV] n_estimators=900, min_samples_split=14, min_samples_leaf=10, max_features=auto, max_depth=10 \n",
      "[CV]  n_estimators=900, min_samples_split=14, min_samples_leaf=10, max_features=auto, max_depth=10, total=   4.2s\n",
      "[CV] n_estimators=900, min_samples_split=14, min_samples_leaf=10, max_features=auto, max_depth=10 \n",
      "[CV]  n_estimators=900, min_samples_split=14, min_samples_leaf=10, max_features=auto, max_depth=10, total=   5.6s\n",
      "[CV] n_estimators=900, min_samples_split=14, min_samples_leaf=10, max_features=auto, max_depth=10 \n",
      "[CV]  n_estimators=900, min_samples_split=14, min_samples_leaf=10, max_features=auto, max_depth=10, total=   3.4s\n",
      "[CV] n_estimators=1100, min_samples_split=14, min_samples_leaf=5, max_features=auto, max_depth=15 \n",
      "[CV]  n_estimators=1100, min_samples_split=14, min_samples_leaf=5, max_features=auto, max_depth=15, total=   5.0s\n",
      "[CV] n_estimators=1100, min_samples_split=14, min_samples_leaf=5, max_features=auto, max_depth=15 \n",
      "[CV]  n_estimators=1100, min_samples_split=14, min_samples_leaf=5, max_features=auto, max_depth=15, total=   5.3s\n",
      "[CV] n_estimators=1100, min_samples_split=14, min_samples_leaf=5, max_features=auto, max_depth=15 \n",
      "[CV]  n_estimators=1100, min_samples_split=14, min_samples_leaf=5, max_features=auto, max_depth=15, total=   5.1s\n",
      "[CV] n_estimators=1100, min_samples_split=14, min_samples_leaf=5, max_features=auto, max_depth=15 \n",
      "[CV]  n_estimators=1100, min_samples_split=14, min_samples_leaf=5, max_features=auto, max_depth=15, total=   5.2s\n",
      "[CV] n_estimators=1100, min_samples_split=14, min_samples_leaf=5, max_features=auto, max_depth=15 \n",
      "[CV]  n_estimators=1100, min_samples_split=14, min_samples_leaf=5, max_features=auto, max_depth=15, total=   6.2s\n",
      "[CV] n_estimators=300, min_samples_split=12, min_samples_leaf=10, max_features=sqrt, max_depth=10 \n",
      "[CV]  n_estimators=300, min_samples_split=12, min_samples_leaf=10, max_features=sqrt, max_depth=10, total=   0.6s\n",
      "[CV] n_estimators=300, min_samples_split=12, min_samples_leaf=10, max_features=sqrt, max_depth=10 \n",
      "[CV]  n_estimators=300, min_samples_split=12, min_samples_leaf=10, max_features=sqrt, max_depth=10, total=   0.6s\n",
      "[CV] n_estimators=300, min_samples_split=12, min_samples_leaf=10, max_features=sqrt, max_depth=10 \n",
      "[CV]  n_estimators=300, min_samples_split=12, min_samples_leaf=10, max_features=sqrt, max_depth=10, total=   0.7s\n",
      "[CV] n_estimators=300, min_samples_split=12, min_samples_leaf=10, max_features=sqrt, max_depth=10 \n",
      "[CV]  n_estimators=300, min_samples_split=12, min_samples_leaf=10, max_features=sqrt, max_depth=10, total=   0.6s\n",
      "[CV] n_estimators=300, min_samples_split=12, min_samples_leaf=10, max_features=sqrt, max_depth=10 \n",
      "[CV]  n_estimators=300, min_samples_split=12, min_samples_leaf=10, max_features=sqrt, max_depth=10, total=   0.7s\n",
      "[CV] n_estimators=400, min_samples_split=5, min_samples_leaf=10, max_features=sqrt, max_depth=10 \n",
      "[CV]  n_estimators=400, min_samples_split=5, min_samples_leaf=10, max_features=sqrt, max_depth=10, total=   0.9s\n",
      "[CV] n_estimators=400, min_samples_split=5, min_samples_leaf=10, max_features=sqrt, max_depth=10 \n",
      "[CV]  n_estimators=400, min_samples_split=5, min_samples_leaf=10, max_features=sqrt, max_depth=10, total=   0.8s\n",
      "[CV] n_estimators=400, min_samples_split=5, min_samples_leaf=10, max_features=sqrt, max_depth=10 \n",
      "[CV]  n_estimators=400, min_samples_split=5, min_samples_leaf=10, max_features=sqrt, max_depth=10, total=   0.8s\n",
      "[CV] n_estimators=400, min_samples_split=5, min_samples_leaf=10, max_features=sqrt, max_depth=10 \n",
      "[CV]  n_estimators=400, min_samples_split=5, min_samples_leaf=10, max_features=sqrt, max_depth=10, total=   0.9s\n",
      "[CV] n_estimators=400, min_samples_split=5, min_samples_leaf=10, max_features=sqrt, max_depth=10 \n",
      "[CV]  n_estimators=400, min_samples_split=5, min_samples_leaf=10, max_features=sqrt, max_depth=10, total=   0.8s\n",
      "[CV] n_estimators=900, min_samples_split=14, min_samples_leaf=8, max_features=auto, max_depth=30 \n",
      "[CV]  n_estimators=900, min_samples_split=14, min_samples_leaf=8, max_features=auto, max_depth=30, total=   4.2s\n",
      "[CV] n_estimators=900, min_samples_split=14, min_samples_leaf=8, max_features=auto, max_depth=30 \n",
      "[CV]  n_estimators=900, min_samples_split=14, min_samples_leaf=8, max_features=auto, max_depth=30, total=   3.9s\n",
      "[CV] n_estimators=900, min_samples_split=14, min_samples_leaf=8, max_features=auto, max_depth=30 \n",
      "[CV]  n_estimators=900, min_samples_split=14, min_samples_leaf=8, max_features=auto, max_depth=30, total=   3.9s\n",
      "[CV] n_estimators=900, min_samples_split=14, min_samples_leaf=8, max_features=auto, max_depth=30 \n",
      "[CV]  n_estimators=900, min_samples_split=14, min_samples_leaf=8, max_features=auto, max_depth=30, total=   3.9s\n",
      "[CV] n_estimators=900, min_samples_split=14, min_samples_leaf=8, max_features=auto, max_depth=30 \n",
      "[CV]  n_estimators=900, min_samples_split=14, min_samples_leaf=8, max_features=auto, max_depth=30, total=   3.9s\n",
      "[CV] n_estimators=700, min_samples_split=12, min_samples_leaf=8, max_features=sqrt, max_depth=15 \n",
      "[CV]  n_estimators=700, min_samples_split=12, min_samples_leaf=8, max_features=sqrt, max_depth=15, total=   1.2s\n",
      "[CV] n_estimators=700, min_samples_split=12, min_samples_leaf=8, max_features=sqrt, max_depth=15 \n",
      "[CV]  n_estimators=700, min_samples_split=12, min_samples_leaf=8, max_features=sqrt, max_depth=15, total=   1.2s\n",
      "[CV] n_estimators=700, min_samples_split=12, min_samples_leaf=8, max_features=sqrt, max_depth=15 \n",
      "[CV]  n_estimators=700, min_samples_split=12, min_samples_leaf=8, max_features=sqrt, max_depth=15, total=   1.2s\n",
      "[CV] n_estimators=700, min_samples_split=12, min_samples_leaf=8, max_features=sqrt, max_depth=15 \n",
      "[CV]  n_estimators=700, min_samples_split=12, min_samples_leaf=8, max_features=sqrt, max_depth=15, total=   1.2s\n",
      "[CV] n_estimators=700, min_samples_split=12, min_samples_leaf=8, max_features=sqrt, max_depth=15 \n",
      "[CV]  n_estimators=700, min_samples_split=12, min_samples_leaf=8, max_features=sqrt, max_depth=15, total=   1.2s\n",
      "[CV] n_estimators=1000, min_samples_split=2, min_samples_leaf=8, max_features=sqrt, max_depth=20 \n",
      "[CV]  n_estimators=1000, min_samples_split=2, min_samples_leaf=8, max_features=sqrt, max_depth=20, total=   1.8s\n",
      "[CV] n_estimators=1000, min_samples_split=2, min_samples_leaf=8, max_features=sqrt, max_depth=20 \n",
      "[CV]  n_estimators=1000, min_samples_split=2, min_samples_leaf=8, max_features=sqrt, max_depth=20, total=   2.1s\n",
      "[CV] n_estimators=1000, min_samples_split=2, min_samples_leaf=8, max_features=sqrt, max_depth=20 \n",
      "[CV]  n_estimators=1000, min_samples_split=2, min_samples_leaf=8, max_features=sqrt, max_depth=20, total=   1.8s\n",
      "[CV] n_estimators=1000, min_samples_split=2, min_samples_leaf=8, max_features=sqrt, max_depth=20 \n",
      "[CV]  n_estimators=1000, min_samples_split=2, min_samples_leaf=8, max_features=sqrt, max_depth=20, total=   1.8s\n",
      "[CV] n_estimators=1000, min_samples_split=2, min_samples_leaf=8, max_features=sqrt, max_depth=20 \n",
      "[CV]  n_estimators=1000, min_samples_split=2, min_samples_leaf=8, max_features=sqrt, max_depth=20, total=   2.0s\n",
      "[CV] n_estimators=1100, min_samples_split=8, min_samples_leaf=8, max_features=sqrt, max_depth=5 \n"
     ]
    },
    {
     "name": "stdout",
     "output_type": "stream",
     "text": [
      "[CV]  n_estimators=1100, min_samples_split=8, min_samples_leaf=8, max_features=sqrt, max_depth=5, total=   1.6s\n",
      "[CV] n_estimators=1100, min_samples_split=8, min_samples_leaf=8, max_features=sqrt, max_depth=5 \n",
      "[CV]  n_estimators=1100, min_samples_split=8, min_samples_leaf=8, max_features=sqrt, max_depth=5, total=   1.6s\n",
      "[CV] n_estimators=1100, min_samples_split=8, min_samples_leaf=8, max_features=sqrt, max_depth=5 \n",
      "[CV]  n_estimators=1100, min_samples_split=8, min_samples_leaf=8, max_features=sqrt, max_depth=5, total=   1.8s\n",
      "[CV] n_estimators=1100, min_samples_split=8, min_samples_leaf=8, max_features=sqrt, max_depth=5 \n",
      "[CV]  n_estimators=1100, min_samples_split=8, min_samples_leaf=8, max_features=sqrt, max_depth=5, total=   1.6s\n",
      "[CV] n_estimators=1100, min_samples_split=8, min_samples_leaf=8, max_features=sqrt, max_depth=5 \n",
      "[CV]  n_estimators=1100, min_samples_split=8, min_samples_leaf=8, max_features=sqrt, max_depth=5, total=   1.7s\n",
      "[CV] n_estimators=300, min_samples_split=5, min_samples_leaf=5, max_features=auto, max_depth=15 \n",
      "[CV]  n_estimators=300, min_samples_split=5, min_samples_leaf=5, max_features=auto, max_depth=15, total=   1.7s\n",
      "[CV] n_estimators=300, min_samples_split=5, min_samples_leaf=5, max_features=auto, max_depth=15 \n",
      "[CV]  n_estimators=300, min_samples_split=5, min_samples_leaf=5, max_features=auto, max_depth=15, total=   1.5s\n",
      "[CV] n_estimators=300, min_samples_split=5, min_samples_leaf=5, max_features=auto, max_depth=15 \n",
      "[CV]  n_estimators=300, min_samples_split=5, min_samples_leaf=5, max_features=auto, max_depth=15, total=   1.5s\n",
      "[CV] n_estimators=300, min_samples_split=5, min_samples_leaf=5, max_features=auto, max_depth=15 \n",
      "[CV]  n_estimators=300, min_samples_split=5, min_samples_leaf=5, max_features=auto, max_depth=15, total=   1.5s\n",
      "[CV] n_estimators=300, min_samples_split=5, min_samples_leaf=5, max_features=auto, max_depth=15 \n",
      "[CV]  n_estimators=300, min_samples_split=5, min_samples_leaf=5, max_features=auto, max_depth=15, total=   1.9s\n"
     ]
    },
    {
     "name": "stderr",
     "output_type": "stream",
     "text": [
      "[Parallel(n_jobs=1)]: Done  50 out of  50 | elapsed:  1.9min finished\n"
     ]
    },
    {
     "data": {
      "text/plain": [
       "RandomizedSearchCV(cv=5, estimator=RandomForestRegressor(), n_jobs=1,\n",
       "                   param_distributions={'max_depth': [5, 10, 15, 20, 25, 30],\n",
       "                                        'max_features': ['auto', 'sqrt'],\n",
       "                                        'min_samples_leaf': [2, 5, 8, 10],\n",
       "                                        'min_samples_split': [2, 5, 8, 10, 12,\n",
       "                                                              14],\n",
       "                                        'n_estimators': [100, 200, 300, 400,\n",
       "                                                         500, 600, 700, 800,\n",
       "                                                         900, 1000, 1100,\n",
       "                                                         1200]},\n",
       "                   random_state=42, scoring='neg_mean_squared_error',\n",
       "                   verbose=2)"
      ]
     },
     "execution_count": 46,
     "metadata": {},
     "output_type": "execute_result"
    }
   ],
   "source": [
    "model.fit(X_train,y_train)"
   ]
  },
  {
   "cell_type": "code",
   "execution_count": 47,
   "metadata": {},
   "outputs": [
    {
     "data": {
      "text/plain": [
       "{'n_estimators': 700,\n",
       " 'min_samples_split': 2,\n",
       " 'min_samples_leaf': 2,\n",
       " 'max_features': 'sqrt',\n",
       " 'max_depth': 30}"
      ]
     },
     "execution_count": 47,
     "metadata": {},
     "output_type": "execute_result"
    }
   ],
   "source": [
    "model.best_params_"
   ]
  },
  {
   "cell_type": "code",
   "execution_count": 48,
   "metadata": {},
   "outputs": [
    {
     "data": {
      "text/plain": [
       "-5744.356166097823"
      ]
     },
     "execution_count": 48,
     "metadata": {},
     "output_type": "execute_result"
    }
   ],
   "source": [
    "model.best_score_"
   ]
  },
  {
   "cell_type": "code",
   "execution_count": 49,
   "metadata": {},
   "outputs": [],
   "source": [
    "predictions=model.predict(X_test)"
   ]
  },
  {
   "cell_type": "code",
   "execution_count": 50,
   "metadata": {},
   "outputs": [
    {
     "name": "stderr",
     "output_type": "stream",
     "text": [
      "/home/anshul/anaconda3/envs/bangalorehouseprediction/lib/python3.7/site-packages/seaborn/distributions.py:2551: FutureWarning: `distplot` is a deprecated function and will be removed in a future version. Please adapt your code to use either `displot` (a figure-level function with similar flexibility) or `histplot` (an axes-level function for histograms).\n",
      "  warnings.warn(msg, FutureWarning)\n"
     ]
    },
    {
     "data": {
      "text/plain": [
       "<AxesSubplot:ylabel='Density'>"
      ]
     },
     "execution_count": 50,
     "metadata": {},
     "output_type": "execute_result"
    },
    {
     "data": {
      "image/png": "[encoded data removed]",
      "text/plain": [
       "<Figure size 432x288 with 1 Axes>"
      ]
     },
     "metadata": {
      "needs_background": "light"
     },
     "output_type": "display_data"
    }
   ],
   "source": [
    "sns.distplot(y_test-predictions)"
   ]
  },
  {
   "cell_type": "code",
   "execution_count": 51,
   "metadata": {},
   "outputs": [
    {
     "data": {
      "text/plain": [
       "<matplotlib.collections.PathCollection at 0x7fbf8a8567d0>"
      ]
     },
     "execution_count": 51,
     "metadata": {},
     "output_type": "execute_result"
    },
    {
     "data": {
      "image/png": "[encoded data removed]",
      "text/plain": [
       "<Figure size 432x288 with 1 Axes>"
      ]
     },
     "metadata": {
      "needs_background": "light"
     },
     "output_type": "display_data"
    }
   ],
   "source": [
    "plt.scatter(y_test,predictions)"
   ]
  },
  {
   "cell_type": "code",
   "execution_count": 52,
   "metadata": {},
   "outputs": [],
   "source": [
    "from sklearn import metrics"
   ]
  },
  {
   "cell_type": "code",
   "execution_count": 53,
   "metadata": {},
   "outputs": [
    {
     "name": "stdout",
     "output_type": "stream",
     "text": [
      "MAE: 27.996519614581057\n",
      "MSE: 3679.0997350399034\n",
      "RMSE: 60.65558288434712\n"
     ]
    }
   ],
   "source": [
    "print('MAE:', metrics.mean_absolute_error(y_test, predictions))\n",
    "print('MSE:', metrics.mean_squared_error(y_test, predictions))\n",
    "print('RMSE:', np.sqrt(metrics.mean_squared_error(y_test, predictions)))"
   ]
  },
  {
   "cell_type": "code",
   "execution_count": 54,
   "metadata": {},
   "outputs": [],
   "source": [
    "import pickle\n",
    "# open a file, where you ant to store the data\n",
    "file = open('random_forest_regression_model.pkl', 'wb')\n",
    "\n",
    "# dump information to that file\n",
    "pickle.dump(model, file)"
   ]
  },
  {
   "cell_type": "code",
   "execution_count": null,
   "metadata": {},
   "outputs": [],
   "source": []
  }
 ],
 "metadata": {
  "kernelspec": {
   "display_name": "bangalorehouseprediction",
   "language": "python",
   "name": "bangalorehouseprediction"
  },
  "language_info": {
   "codemirror_mode": {
    "name": "ipython",
    "version": 3
   },
   "file_extension": ".py",
   "mimetype": "text/x-python",
   "name": "python",
   "nbconvert_exporter": "python",
   "pygments_lexer": "ipython3",
   "version": "3.7.9"
  }
 },
 "nbformat": 4,
 "nbformat_minor": 4
}
